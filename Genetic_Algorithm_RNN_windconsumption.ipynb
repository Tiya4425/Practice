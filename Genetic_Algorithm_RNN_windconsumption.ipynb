{
  "cells": [
    {
      "cell_type": "markdown",
      "metadata": {
        "id": "view-in-github",
        "colab_type": "text"
      },
      "source": [
        "<a href=\"https://colab.research.google.com/github/Tiya4425/Practice/blob/main/Genetic_Algorithm_RNN_windconsumption.ipynb\" target=\"_parent\"><img src=\"https://colab.research.google.com/assets/colab-badge.svg\" alt=\"Open In Colab\"/></a>"
      ]
    },
    {
      "cell_type": "markdown",
      "metadata": {
        "id": "MxiGXo6JR0nx"
      },
      "source": [
        "### Optimizing RNN using Genetic Algorithm "
      ]
    },
    {
      "cell_type": "markdown",
      "metadata": {
        "id": "mPCLP74ZR0n1"
      },
      "source": [
        "#### Importing required packages"
      ]
    },
    {
      "cell_type": "code",
      "source": [
        "!pip install deap"
      ],
      "metadata": {
        "colab": {
          "base_uri": "https://localhost:8080/"
        },
        "id": "qKvcUoGDSGMS",
        "outputId": "2438b71e-8397-45ea-8fd2-46a4271d1911"
      },
      "execution_count": 2,
      "outputs": [
        {
          "output_type": "stream",
          "name": "stdout",
          "text": [
            "Collecting deap\n",
            "  Downloading deap-1.3.1-cp37-cp37m-manylinux_2_5_x86_64.manylinux1_x86_64.manylinux_2_12_x86_64.manylinux2010_x86_64.whl (160 kB)\n",
            "\u001b[?25l\r\u001b[K     |██                              | 10 kB 21.3 MB/s eta 0:00:01\r\u001b[K     |████                            | 20 kB 23.6 MB/s eta 0:00:01\r\u001b[K     |██████                          | 30 kB 28.6 MB/s eta 0:00:01\r\u001b[K     |████████▏                       | 40 kB 20.9 MB/s eta 0:00:01\r\u001b[K     |██████████▏                     | 51 kB 4.5 MB/s eta 0:00:01\r\u001b[K     |████████████▏                   | 61 kB 5.3 MB/s eta 0:00:01\r\u001b[K     |██████████████▎                 | 71 kB 6.0 MB/s eta 0:00:01\r\u001b[K     |████████████████▎               | 81 kB 6.8 MB/s eta 0:00:01\r\u001b[K     |██████████████████▎             | 92 kB 7.5 MB/s eta 0:00:01\r\u001b[K     |████████████████████▍           | 102 kB 8.3 MB/s eta 0:00:01\r\u001b[K     |██████████████████████▍         | 112 kB 8.3 MB/s eta 0:00:01\r\u001b[K     |████████████████████████▍       | 122 kB 8.3 MB/s eta 0:00:01\r\u001b[K     |██████████████████████████▌     | 133 kB 8.3 MB/s eta 0:00:01\r\u001b[K     |████████████████████████████▌   | 143 kB 8.3 MB/s eta 0:00:01\r\u001b[K     |██████████████████████████████▌ | 153 kB 8.3 MB/s eta 0:00:01\r\u001b[K     |████████████████████████████████| 160 kB 8.3 MB/s \n",
            "\u001b[?25hRequirement already satisfied: numpy in /usr/local/lib/python3.7/dist-packages (from deap) (1.21.6)\n",
            "Installing collected packages: deap\n",
            "Successfully installed deap-1.3.1\n"
          ]
        }
      ]
    },
    {
      "cell_type": "code",
      "source": [
        "!pip install bitstring"
      ],
      "metadata": {
        "colab": {
          "base_uri": "https://localhost:8080/"
        },
        "id": "tZKCVNuaSVy6",
        "outputId": "42572926-4901-4bbf-8da2-9e63438b728a"
      },
      "execution_count": 4,
      "outputs": [
        {
          "output_type": "stream",
          "name": "stdout",
          "text": [
            "Collecting bitstring\n",
            "  Downloading bitstring-3.1.9-py3-none-any.whl (38 kB)\n",
            "Installing collected packages: bitstring\n",
            "Successfully installed bitstring-3.1.9\n"
          ]
        }
      ]
    },
    {
      "cell_type": "code",
      "execution_count": 6,
      "metadata": {
        "id": "fYTX93DxR0n1"
      },
      "outputs": [],
      "source": [
        "import numpy as np\n",
        "import pandas as pd\n",
        "from sklearn.metrics import mean_squared_error\n",
        "from sklearn.model_selection import train_test_split as split\n",
        "\n",
        "from keras.layers import LSTM, Input, Dense\n",
        "from keras.models import Model\n",
        "\n",
        "from deap import base, creator, tools, algorithms\n",
        "from scipy.stats import bernoulli\n",
        "from bitstring import BitArray\n",
        "\n",
        "np.random.seed(1120)"
      ]
    },
    {
      "cell_type": "markdown",
      "metadata": {
        "id": "dF77bOTTR0n3"
      },
      "source": [
        "#### Reading dataset and using first 17,257 points as training/validation and rest of the 1500 points as test set."
      ]
    },
    {
      "cell_type": "code",
      "execution_count": 10,
      "metadata": {
        "collapsed": true,
        "id": "gqh8b3I6R0n3"
      },
      "outputs": [],
      "source": [
        "data = pd.read_csv('train (3).csv')\n",
        "data = np.reshape(np.array(data['wp1']),(len(data['wp1']),1))\n",
        "\n",
        "train_data = data[0:17257]\n",
        "test_data = data[17257:]"
      ]
    },
    {
      "cell_type": "markdown",
      "metadata": {
        "id": "uLsMFR6jR0n3"
      },
      "source": [
        "#### Defining Helper Functions"
      ]
    },
    {
      "cell_type": "code",
      "execution_count": 19,
      "metadata": {
        "collapsed": true,
        "id": "4FpaFyEFR0n4"
      },
      "outputs": [],
      "source": [
        "def prepare_dataset(data, window_size):\n",
        "    X, Y = np.empty((0,window_size)), np.empty((0))\n",
        "    for i in range(len(data)-window_size-1):\n",
        "        X = np.vstack([X,data[i:(i + window_size),0]])\n",
        "        Y = np.append(Y,data[i + window_size,0])   \n",
        "    X = np.reshape(X,(len(X),window_size,1))\n",
        "    Y = np.reshape(Y,(len(Y),1))\n",
        "    return X, Y\n",
        "\n",
        "def train_evaluate(ga_individual_solution):   \n",
        "    # Decode GA solution to integer for window_size and num_units\n",
        "    window_size_bits = BitArray(ga_individual_solution[0:6])\n",
        "    num_units_bits = BitArray(ga_individual_solution[6:]) \n",
        "    window_size = window_size_bits.uint\n",
        "    num_units = num_units_bits.uint\n",
        "    print('\\nWindow Size: ', window_size, ', Num of Units: ', num_units)\n",
        "    \n",
        "    # Return fitness score of 100 if window_size or num_unit is zero\n",
        "    if window_size == 0 or num_units == 0:\n",
        "        return 100, \n",
        "    \n",
        "    # Segment the train_data based on new window_size; split into train and validation (80/20)\n",
        "    X,Y = prepare_dataset(train_data,window_size)\n",
        "    X_train, X_val, y_train, y_val = split(X, Y, test_size = 0.20, random_state = 1120)\n",
        "    \n",
        "    # Train LSTM model and predict on validation set\n",
        "    inputs = Input(shape=(window_size,1))\n",
        "    x = LSTM(num_units, input_shape=(window_size,1))(inputs)\n",
        "    predictions = Dense(1, activation='linear')(x)\n",
        "    model = Model(inputs=inputs, outputs=predictions)\n",
        "    model.compile(optimizer='adam',loss='mean_squared_error',validation_data=(X_val, y_val))\n",
        "    model.fit(X_train, y_train, epochs=5, batch_size=10,shuffle=True)\n",
        "    y_pred = model.predict(X_val)\n",
        "    \n",
        "    # Calculate the RMSE score as fitness score for GA\n",
        "    rmse = np.sqrt(mean_squared_error(y_val, y_pred))\n",
        "    print('Validation RMSE: ', rmse,'\\n')\n",
        "    \n",
        "    return rmse,"
      ]
    },
    {
      "cell_type": "markdown",
      "metadata": {
        "id": "qhEgp4SoR0n5"
      },
      "source": [
        "#### Genetic Representation of the Solution"
      ]
    },
    {
      "cell_type": "markdown",
      "metadata": {
        "id": "d7WlCwnER0n5"
      },
      "source": [
        "<img src=\"genetic_representation.png\" alt=\"Genetic representation of a solution\">"
      ]
    },
    {
      "cell_type": "markdown",
      "metadata": {
        "id": "BuLKrl4DR0n6"
      },
      "source": [
        "#### Genetic Algorithm Overview"
      ]
    },
    {
      "cell_type": "markdown",
      "metadata": {
        "id": "Q67v3bPnR0n6"
      },
      "source": [
        "<img src=\"ga.png\" alt=\"Genetic Algorithm\">"
      ]
    },
    {
      "cell_type": "code",
      "execution_count": 12,
      "metadata": {
        "scrolled": false,
        "colab": {
          "base_uri": "https://localhost:8080/"
        },
        "id": "gQTdTBhIR0n7",
        "outputId": "b1bf3fee-6c49-4d1f-9004-980068366bc4"
      },
      "outputs": [
        {
          "output_type": "stream",
          "name": "stdout",
          "text": [
            "\n",
            "Window Size:  36 , Num of Units:  2\n",
            "Epoch 1/5\n",
            "1378/1378 [==============================] - 15s 10ms/step - loss: 0.0267\n",
            "Epoch 2/5\n",
            "1378/1378 [==============================] - 15s 11ms/step - loss: 0.0093\n",
            "Epoch 3/5\n",
            "1378/1378 [==============================] - 13s 9ms/step - loss: 0.0069\n",
            "Epoch 4/5\n",
            "1378/1378 [==============================] - 13s 9ms/step - loss: 0.0059\n",
            "Epoch 5/5\n",
            "1378/1378 [==============================] - 13s 9ms/step - loss: 0.0057\n",
            "Validation RMSE:  0.0767291238390496 \n",
            "\n",
            "\n",
            "Window Size:  56 , Num of Units:  8\n",
            "Epoch 1/5\n",
            "1376/1376 [==============================] - 12s 8ms/step - loss: 0.0114\n",
            "Epoch 2/5\n",
            "1376/1376 [==============================] - 11s 8ms/step - loss: 0.0061\n",
            "Epoch 3/5\n",
            "1376/1376 [==============================] - 11s 8ms/step - loss: 0.0058\n",
            "Epoch 4/5\n",
            "1376/1376 [==============================] - 11s 8ms/step - loss: 0.0058\n",
            "Epoch 5/5\n",
            "1376/1376 [==============================] - 12s 8ms/step - loss: 0.0058\n",
            "Validation RMSE:  0.07442871670842709 \n",
            "\n",
            "\n",
            "Window Size:  60 , Num of Units:  9\n",
            "Epoch 1/5\n",
            "1376/1376 [==============================] - 22s 15ms/step - loss: 0.0113\n",
            "Epoch 2/5\n",
            "1376/1376 [==============================] - 21s 15ms/step - loss: 0.0064\n",
            "Epoch 3/5\n",
            "1376/1376 [==============================] - 20s 15ms/step - loss: 0.0058\n",
            "Epoch 4/5\n",
            "1376/1376 [==============================] - 20s 15ms/step - loss: 0.0057\n",
            "Epoch 5/5\n",
            "1376/1376 [==============================] - 20s 15ms/step - loss: 0.0057\n",
            "Validation RMSE:  0.07494370704255104 \n",
            "\n",
            "\n",
            "Window Size:  49 , Num of Units:  9\n",
            "Epoch 1/5\n",
            "1377/1377 [==============================] - 19s 13ms/step - loss: 0.0175\n",
            "Epoch 2/5\n",
            "1377/1377 [==============================] - 17s 13ms/step - loss: 0.0067\n",
            "Epoch 3/5\n",
            "1377/1377 [==============================] - 17s 13ms/step - loss: 0.0059\n",
            "Epoch 4/5\n",
            "1377/1377 [==============================] - 17s 12ms/step - loss: 0.0058\n",
            "Epoch 5/5\n",
            "1377/1377 [==============================] - 17s 13ms/step - loss: 0.0058\n",
            "Validation RMSE:  0.07418661324051508 \n",
            "\n",
            "\n",
            "Window Size:  60 , Num of Units:  9\n",
            "Epoch 1/5\n",
            "1376/1376 [==============================] - 22s 15ms/step - loss: 0.0150\n",
            "Epoch 2/5\n",
            "1376/1376 [==============================] - 20s 15ms/step - loss: 0.0062\n",
            "Epoch 3/5\n",
            "1376/1376 [==============================] - 20s 15ms/step - loss: 0.0058\n",
            "Epoch 4/5\n",
            "1376/1376 [==============================] - 20s 15ms/step - loss: 0.0058\n",
            "Epoch 5/5\n",
            "1376/1376 [==============================] - 20s 15ms/step - loss: 0.0058\n",
            "Validation RMSE:  0.07695699670585751 \n",
            "\n",
            "\n",
            "Window Size:  56 , Num of Units:  8\n",
            "Epoch 1/5\n",
            "1376/1376 [==============================] - 13s 8ms/step - loss: 0.0211\n",
            "Epoch 2/5\n",
            "1376/1376 [==============================] - 11s 8ms/step - loss: 0.0067\n",
            "Epoch 3/5\n",
            "1376/1376 [==============================] - 12s 8ms/step - loss: 0.0060\n",
            "Epoch 4/5\n",
            "1376/1376 [==============================] - 12s 8ms/step - loss: 0.0058\n",
            "Epoch 5/5\n",
            "1376/1376 [==============================] - 12s 8ms/step - loss: 0.0058\n",
            "Validation RMSE:  0.07440395177741721 \n",
            "\n",
            "\n",
            "Window Size:  49 , Num of Units:  9\n",
            "Epoch 1/5\n",
            "1377/1377 [==============================] - 19s 13ms/step - loss: 0.0138\n",
            "Epoch 2/5\n",
            "1377/1377 [==============================] - 17s 12ms/step - loss: 0.0064\n",
            "Epoch 3/5\n",
            "1377/1377 [==============================] - 17s 12ms/step - loss: 0.0058\n",
            "Epoch 4/5\n",
            "1377/1377 [==============================] - 17s 12ms/step - loss: 0.0058\n",
            "Epoch 5/5\n",
            "1377/1377 [==============================] - 17s 12ms/step - loss: 0.0058\n",
            "Validation RMSE:  0.07457162058273477 \n",
            "\n",
            "\n",
            "Window Size:  60 , Num of Units:  9\n",
            "Epoch 1/5\n",
            "1376/1376 [==============================] - 22s 15ms/step - loss: 0.0127\n",
            "Epoch 2/5\n",
            "1376/1376 [==============================] - 20s 15ms/step - loss: 0.0065\n",
            "Epoch 3/5\n",
            "1376/1376 [==============================] - 22s 16ms/step - loss: 0.0058\n",
            "Epoch 4/5\n",
            "1376/1376 [==============================] - 22s 16ms/step - loss: 0.0057\n",
            "Epoch 5/5\n",
            "1376/1376 [==============================] - 20s 15ms/step - loss: 0.0057\n",
            "Validation RMSE:  0.07603530447916525 \n",
            "\n",
            "\n",
            "Window Size:  61 , Num of Units:  9\n",
            "Epoch 1/5\n",
            "1376/1376 [==============================] - 22s 15ms/step - loss: 0.0149\n",
            "Epoch 2/5\n",
            "1376/1376 [==============================] - 20s 15ms/step - loss: 0.0061\n",
            "Epoch 3/5\n",
            "1376/1376 [==============================] - 21s 15ms/step - loss: 0.0058\n",
            "Epoch 4/5\n",
            "1376/1376 [==============================] - 21s 15ms/step - loss: 0.0058\n",
            "Epoch 5/5\n",
            "1376/1376 [==============================] - 20s 15ms/step - loss: 0.0058\n",
            "Validation RMSE:  0.07560091416732086 \n",
            "\n",
            "\n",
            "Window Size:  48 , Num of Units:  9\n",
            "Epoch 1/5\n",
            "1377/1377 [==============================] - 18s 12ms/step - loss: 0.0127\n",
            "Epoch 2/5\n",
            "1377/1377 [==============================] - 17s 12ms/step - loss: 0.0060\n",
            "Epoch 3/5\n",
            "1377/1377 [==============================] - 17s 12ms/step - loss: 0.0057\n",
            "Epoch 4/5\n",
            "1377/1377 [==============================] - 17s 12ms/step - loss: 0.0056\n",
            "Epoch 5/5\n",
            "1377/1377 [==============================] - 17s 12ms/step - loss: 0.0056\n",
            "Validation RMSE:  0.0767666436273605 \n",
            "\n",
            "\n",
            "Window Size:  61 , Num of Units:  9\n",
            "Epoch 1/5\n",
            "1376/1376 [==============================] - 22s 15ms/step - loss: 0.0181\n",
            "Epoch 2/5\n",
            "1376/1376 [==============================] - 20s 15ms/step - loss: 0.0064\n",
            "Epoch 3/5\n",
            "1376/1376 [==============================] - 21s 15ms/step - loss: 0.0058\n",
            "Epoch 4/5\n",
            "1376/1376 [==============================] - 20s 15ms/step - loss: 0.0057\n",
            "Epoch 5/5\n",
            "1376/1376 [==============================] - 21s 15ms/step - loss: 0.0057\n",
            "Validation RMSE:  0.07463804366713332 \n",
            "\n",
            "\n",
            "Window Size:  48 , Num of Units:  9\n",
            "Epoch 1/5\n",
            "1377/1377 [==============================] - 19s 12ms/step - loss: 0.0119\n",
            "Epoch 2/5\n",
            "1377/1377 [==============================] - 17s 12ms/step - loss: 0.0061\n",
            "Epoch 3/5\n",
            "1377/1377 [==============================] - 17s 12ms/step - loss: 0.0057\n",
            "Epoch 4/5\n",
            "1377/1377 [==============================] - 17s 13ms/step - loss: 0.0057\n",
            "Epoch 5/5\n",
            "1377/1377 [==============================] - 17s 13ms/step - loss: 0.0056\n",
            "Validation RMSE:  0.07648140476017468 \n",
            "\n",
            "\n",
            "Window Size:  63 , Num of Units:  9\n",
            "Epoch 1/5\n",
            "1376/1376 [==============================] - 24s 16ms/step - loss: 0.0086\n",
            "Epoch 2/5\n",
            "1376/1376 [==============================] - 21s 15ms/step - loss: 0.0061\n",
            "Epoch 3/5\n",
            "1376/1376 [==============================] - 21s 16ms/step - loss: 0.0059\n",
            "Epoch 4/5\n",
            "1376/1376 [==============================] - 21s 15ms/step - loss: 0.0058\n",
            "Epoch 5/5\n",
            "1376/1376 [==============================] - 21s 15ms/step - loss: 0.0058\n",
            "Validation RMSE:  0.07282640041795846 \n",
            "\n",
            "\n",
            "Window Size:  63 , Num of Units:  9\n",
            "Epoch 1/5\n",
            "1376/1376 [==============================] - 23s 16ms/step - loss: 0.0101\n",
            "Epoch 2/5\n",
            "1376/1376 [==============================] - 21s 16ms/step - loss: 0.0060\n",
            "Epoch 3/5\n",
            "1376/1376 [==============================] - 21s 15ms/step - loss: 0.0058\n",
            "Epoch 4/5\n",
            "1376/1376 [==============================] - 21s 15ms/step - loss: 0.0058\n",
            "Epoch 5/5\n",
            "1376/1376 [==============================] - 21s 15ms/step - loss: 0.0058\n",
            "Validation RMSE:  0.07480906039564676 \n",
            "\n"
          ]
        }
      ],
      "source": [
        "population_size = 4\n",
        "num_generations = 4\n",
        "gene_length = 10\n",
        "\n",
        "# As we are trying to minimize the RMSE score, that's why using -1.0. \n",
        "# In case, when you want to maximize accuracy for instance, use 1.0\n",
        "creator.create('FitnessMax', base.Fitness, weights = (-1.0,))\n",
        "creator.create('Individual', list , fitness = creator.FitnessMax)\n",
        "\n",
        "toolbox = base.Toolbox()\n",
        "toolbox.register('binary', bernoulli.rvs, 0.5)\n",
        "toolbox.register('individual', tools.initRepeat, creator.Individual, toolbox.binary, n = gene_length)\n",
        "toolbox.register('population', tools.initRepeat, list , toolbox.individual)\n",
        "\n",
        "toolbox.register('mate', tools.cxOrdered)\n",
        "toolbox.register('mutate', tools.mutShuffleIndexes, indpb = 0.6)\n",
        "toolbox.register('select', tools.selRoulette)\n",
        "toolbox.register('evaluate', train_evaluate)\n",
        "\n",
        "population = toolbox.population(n = population_size)\n",
        "r = algorithms.eaSimple(population, toolbox, cxpb = 0.4, mutpb = 0.1, ngen = num_generations, verbose = False)"
      ]
    },
    {
      "cell_type": "markdown",
      "metadata": {
        "id": "pvbaqWnHR0n7"
      },
      "source": [
        "#### Print top N solutions - (1st only, for now)"
      ]
    },
    {
      "cell_type": "code",
      "execution_count": 13,
      "metadata": {
        "colab": {
          "base_uri": "https://localhost:8080/"
        },
        "id": "I84IWzfOR0n7",
        "outputId": "c36dcbe6-3d14-4db5-e0ff-8b843d994e45"
      },
      "outputs": [
        {
          "output_type": "stream",
          "name": "stdout",
          "text": [
            "\n",
            "Window Size:  63 , Num of Units:  9\n"
          ]
        }
      ],
      "source": [
        "best_individuals = tools.selBest(population,k = 1)\n",
        "best_window_size = None\n",
        "best_num_units = None\n",
        "\n",
        "for bi in best_individuals:\n",
        "    window_size_bits = BitArray(bi[0:6])\n",
        "    num_units_bits = BitArray(bi[6:]) \n",
        "    best_window_size = window_size_bits.uint\n",
        "    best_num_units = num_units_bits.uint\n",
        "    print('\\nWindow Size: ', best_window_size, ', Num of Units: ', best_num_units)"
      ]
    },
    {
      "cell_type": "markdown",
      "metadata": {
        "id": "fYkzT0iLR0n8"
      },
      "source": [
        "#### Train the model using best configuration on complete training set and make predictions on the test set"
      ]
    },
    {
      "cell_type": "code",
      "execution_count": 21,
      "metadata": {
        "collapsed": true,
        "colab": {
          "base_uri": "https://localhost:8080/"
        },
        "id": "S85kZRhbR0n8",
        "outputId": "d274da3f-047f-4224-8464-6974e94d9dc9"
      },
      "outputs": [
        {
          "output_type": "stream",
          "name": "stdout",
          "text": [
            "Epoch 1/5\n",
            "1720/1720 [==============================] - 28s 15ms/step - loss: 0.0143 - val_loss: 0.0092\n",
            "Epoch 2/5\n",
            "1720/1720 [==============================] - 26s 15ms/step - loss: 0.0061 - val_loss: 0.0084\n",
            "Epoch 3/5\n",
            "1720/1720 [==============================] - 26s 15ms/step - loss: 0.0058 - val_loss: 0.0084\n",
            "Epoch 4/5\n",
            "1720/1720 [==============================] - 26s 15ms/step - loss: 0.0057 - val_loss: 0.0096\n",
            "Epoch 5/5\n",
            "1720/1720 [==============================] - 26s 15ms/step - loss: 0.0057 - val_loss: 0.0085\n",
            "Test RMSE:  0.0920979507168481\n"
          ]
        }
      ],
      "source": [
        "X_train,y_train = prepare_dataset(train_data,best_window_size)\n",
        "X_test, y_test = prepare_dataset(test_data,best_window_size)\n",
        "\n",
        "inputs = Input(shape=(best_window_size,1))\n",
        "x = LSTM(best_num_units, input_shape=(best_window_size,1))(inputs)\n",
        "predictions = Dense(1, activation='linear')(x)\n",
        "model = Model(inputs = inputs, outputs = predictions)\n",
        "model.compile(optimizer='adam',loss='mean_squared_error')\n",
        "history= model.fit(X_train, y_train, epochs=5, batch_size=10,shuffle=True,validation_data=(X_test, y_test))\n",
        "y_pred = model.predict(X_test)\n",
        "\n",
        "rmse = np.sqrt(mean_squared_error(y_test, y_pred))\n",
        "print('Test RMSE: ', rmse)"
      ]
    },
    {
      "cell_type": "code",
      "source": [
        "import matplotlib.pyplot as plt\n",
        "\n",
        "#plot train and validation loss\n",
        "plt.plot(history.history['loss'])\n",
        "plt.plot(history.history['val_loss'])\n",
        "plt.title('model train vs validation loss')\n",
        "plt.ylabel('loss') \n",
        "plt.xlabel('epoch')\n",
        "plt.legend(['train', 'validation'], loc='upper right')\n",
        "plt.show()"
      ],
      "metadata": {
        "colab": {
          "base_uri": "https://localhost:8080/",
          "height": 295
        },
        "id": "Of1dW8RJY6MA",
        "outputId": "b05e9ea4-baae-485c-c3e9-261b21bb0e8b"
      },
      "execution_count": 31,
      "outputs": [
        {
          "output_type": "display_data",
          "data": {
            "text/plain": [
              "<Figure size 432x288 with 1 Axes>"
            ],
            "image/png": "[encoded data removed]"
          },
          "metadata": {
            "needs_background": "light"
          }
        }
      ]
    },
    {
      "cell_type": "markdown",
      "source": [
        "http://aqibsaeed.github.io/2017-08-11-genetic-algorithm-for-optimizing-rnn/\n",
        "dataset: https://www.kaggle.com/c/GEF2012-wind-forecasting/data?select=test.csv\n",
        "\n",
        "https://machinelearningmastery.com/diagnose-overfitting-underfitting-lstm-models/\n",
        "\n",
        "https://reader.elsevier.com/reader/sd/pii/S0169207013000745?token=EFB420529208226E2E215098E19E34C83FFABBAA6169324DD780369AE7329B1F9C195A43A8F3D19E9A24C6E32FCEB81D&originRegion=eu-west-1&originCreation=20220513131719\n"
      ],
      "metadata": {
        "id": "Hg1qBxVyVJIw"
      }
    }
  ],
  "metadata": {
    "kernelspec": {
      "display_name": "Python 3",
      "language": "python",
      "name": "python3"
    },
    "language_info": {
      "codemirror_mode": {
        "name": "ipython",
        "version": 3
      },
      "file_extension": ".py",
      "mimetype": "text/x-python",
      "name": "python",
      "nbconvert_exporter": "python",
      "pygments_lexer": "ipython3",
      "version": "3.5.3"
    },
    "colab": {
      "name": "Genetic-Algorithm-RNN.ipynb.",
      "provenance": [],
      "collapsed_sections": [],
      "include_colab_link": true
    }
  },
  "nbformat": 4,
  "nbformat_minor": 0
}